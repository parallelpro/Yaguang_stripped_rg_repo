{
 "cells": [
  {
   "cell_type": "code",
   "execution_count": 2,
   "id": "84668bdf-c2ca-4671-9fad-8a9135187c15",
   "metadata": {},
   "outputs": [],
   "source": [
    "%run setup.py"
   ]
  },
  {
   "cell_type": "markdown",
   "id": "6560327b-3965-490d-a29c-8d25bc33183d",
   "metadata": {},
   "source": [
    "# Read in Kepler sample"
   ]
  },
  {
   "cell_type": "code",
   "execution_count": 3,
   "id": "296b503c-a361-4087-b227-9775fd93b510",
   "metadata": {},
   "outputs": [],
   "source": [
    "stars = pd.read_excel(work_dir+'sample/clumps.xlsx')"
   ]
  },
  {
   "cell_type": "markdown",
   "id": "1c934738-0de0-4f1e-a1ec-f185909b0696",
   "metadata": {},
   "source": [
    "# Plot Figure 3"
   ]
  },
  {
   "cell_type": "code",
   "execution_count": 11,
   "id": "1ae4d685-c96d-4760-a903-406d432e91e2",
   "metadata": {},
   "outputs": [
    {
     "data": {
      "image/png": "[encoded data removed]",
      "text/plain": [
       "<Figure size 510.236x204.094 with 2 Axes>"
      ]
     },
     "metadata": {
      "needs_background": "light"
     },
     "output_type": "display_data"
    }
   ],
   "source": [
    "import matplotlib.colors\n",
    "norm = matplotlib.colors.Normalize(vmin=0.6,vmax=2.2)\n",
    "\n",
    "# gridspec_kw = {'left':0.09, 'right':0.92, 'top':0.98, 'bottom':0.08, 'wspace':0.2, 'hspace':0.2}\n",
    "gridspec_kw = {'left':0.09, 'right':0.92, 'top':0.98, 'bottom':0.15, 'wspace':0.2, 'hspace':0.20}\n",
    "# fig, axes = plt.subplots(figsize=[15,5], nrows=1, ncols=3, squeeze=False, gridspec_kw=gridspec_kw) #\n",
    "fig, axes = plt.subplots(figsize=nature_size('double', ratio=0.4), nrows=1, ncols=2, squeeze=False, gridspec_kw=gridspec_kw)\n",
    "axes = axes.reshape(-1)\n",
    "\n",
    "\n",
    "bins = np.arange(0.3, 4.0, 0.1)\n",
    "rgbhist = {'bins':bins, 'density':False, 'histtype':'step', 'linestyle':'-', 'color':red, 'label':'Low-luminosity RGB'}\n",
    "hebhist = {'bins':bins, 'density':False, 'histtype':'step', 'linestyle':'--', 'color':blue, 'label':'CHeB'}\n",
    "\n",
    "\n",
    "thick = (stars['ALPHA_M']>0.15)\n",
    "thin = (stars['ALPHA_M']<0.03)\n",
    "rgb = (stars['Phase']==1) & (stars['numax']>80) & (stars['M_H']>-10) & (stars['ALPHA_M']>-10) & thick\n",
    "heb = (stars['Phase']==2) & (stars['M_H']>-10) & (stars['ALPHA_M']>-10) & thick\n",
    "\n",
    "axes[0].hist(stars.loc[rgb,'RGBcorM'],**rgbhist)\n",
    "axes[0].hist(stars.loc[heb,'ClcorM'],**hebhist)\n",
    "\n",
    "\n",
    "rgb = (stars['Phase']==1) & (stars['numax']>80) & (stars['M_H']>-10) & (stars['ALPHA_M']>-10) & thin\n",
    "heb = (stars['Phase']==2) & (stars['M_H']>-10) & (stars['ALPHA_M']>-10) & thin\n",
    "\n",
    "axes[1].hist(stars.loc[rgb,'RGBcorM'],**rgbhist)\n",
    "axes[1].hist(stars.loc[heb,'ClcorM'],**hebhist)\n",
    "\n",
    "for iax in [0,1]:\n",
    "    axes[iax].set_xlabel('Mass (M$_{\\\\odot}$)')\n",
    "    axes[iax].set_ylabel('Count')\n",
    "    axes[iax].legend(fontsize=fontsize)\n",
    "\n",
    "labels = ['{\\\\textbf{a}}\\ \\ [$\\\\alpha$/M]$>$0.15', '{\\\\textbf{b}} \\ \\    [$\\\\alpha$/M]$<$0.03']\n",
    "# labels = ['a) ', 'b) ']\n",
    "for iax, ax in enumerate(axes):\n",
    "    ax.text(0.04, 0.92, labels[iax], transform=ax.transAxes, fontsize=fontsize)\n",
    "\n",
    "axes[0].set_ylim(0., 170)\n",
    "axes[1].set_ylim(0., 300)\n",
    "\n",
    "\n",
    "arrowprops = {'width':10, 'headwidth':10, 'headlength':10}\n",
    "arrowprops = {'arrowstyle':'->'}\n",
    "\n",
    "# (arrow coord), (text coord)\n",
    "axes[0].annotate('High-mass high-$\\\\alpha$', (32.,3.2), (45,3.18),  fontsize=fontsize, va='center', arrowprops=arrowprops)\n",
    "axes[0].annotate('Low-mass low-$\\\\alpha$', (32.,3.2), (45,3.18),  fontsize=fontsize, va='center', arrowprops=arrowprops)\n",
    "\n",
    "plt.savefig(overleaf_path+'Fig_main_3_alpha.pdf')"
   ]
  }
 ],
 "metadata": {
  "kernelspec": {
   "display_name": "Python 3",
   "language": "python",
   "name": "python3"
  },
  "language_info": {
   "codemirror_mode": {
    "name": "ipython",
    "version": 3
   },
   "file_extension": ".py",
   "mimetype": "text/x-python",
   "name": "python",
   "nbconvert_exporter": "python",
   "pygments_lexer": "ipython3",
   "version": "3.7.9"
  }
 },
 "nbformat": 4,
 "nbformat_minor": 5
}
