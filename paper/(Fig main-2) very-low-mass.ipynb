{
 "cells": [
  {
   "cell_type": "code",
   "execution_count": 5,
   "id": "a23bd2fd-a37a-44ac-b6c2-b723584719c7",
   "metadata": {},
   "outputs": [],
   "source": [
    "%run setup.py"
   ]
  },
  {
   "cell_type": "markdown",
   "id": "340bb46d-c70e-415d-b167-0d7cbf02e039",
   "metadata": {},
   "source": [
    "# Read in Kepler sample"
   ]
  },
  {
   "cell_type": "code",
   "execution_count": 6,
   "id": "02f9b077-e5ef-4153-9396-0de056feeb44",
   "metadata": {},
   "outputs": [],
   "source": [
    "stars = pd.read_excel(work_dir+'sample/clumps.xlsx')"
   ]
  },
  {
   "cell_type": "markdown",
   "id": "630b62b6-47b1-4243-b957-128068a03caa",
   "metadata": {},
   "source": [
    "## Define useful selections"
   ]
  },
  {
   "cell_type": "code",
   "execution_count": 7,
   "id": "45d1eed3-5564-42e1-95d1-6e0173d558c6",
   "metadata": {},
   "outputs": [
    {
     "name": "stdout",
     "output_type": "stream",
     "text": [
      "very-low-mass stars 32\n",
      "under-luminous stars 7\n",
      "regular stars 7499\n",
      "all HeB stars 7538\n",
      "all HeB stars with APOGEE/LAMOST metallicity 6612\n"
     ]
    }
   ],
   "source": [
    "# Select all very-low-mass HeB stars\n",
    "lidx = (stars['Phase']==2) & (stars['ifclump']==1) & (np.abs(stars['dist_mass_sig'])>1)\n",
    "\n",
    "# Select all under-luminous HeB stars\n",
    "uidx = (stars['Phase']==2) & (stars['ifclump']==2) & (np.abs(stars['dist_nike_sig'])>1)\n",
    "\n",
    "# Select regular stars\n",
    "oidx = (stars['Phase']==2) & (stars['ifclump']!=-1) & (~lidx) & (~uidx)\n",
    "\n",
    "# all stars\n",
    "heb = lidx | uidx | oidx\n",
    "\n",
    "print('very-low-mass stars', np.sum(lidx))\n",
    "print('under-luminous stars', np.sum(uidx))\n",
    "print('regular stars', np.sum(oidx))\n",
    "print('all HeB stars', np.sum(heb))\n",
    "print('all HeB stars with APOGEE/LAMOST metallicity', np.sum(heb&np.isfinite(stars['[M/H]'])))"
   ]
  },
  {
   "cell_type": "markdown",
   "id": "4e67bc4d-578f-4d68-85eb-cf4bef38939a",
   "metadata": {},
   "source": [
    "# Read in MIST isochrones"
   ]
  },
  {
   "cell_type": "code",
   "execution_count": 8,
   "id": "01b4bd2d-2e46-453a-ab13-3b46595f30f9",
   "metadata": {},
   "outputs": [],
   "source": [
    "class MIST_ISO: # from MIST website\n",
    "    \n",
    "    \"\"\"\n",
    "    \n",
    "    Reads in MIST isochrone files.\n",
    "    \n",
    "    \"\"\"\n",
    "    \n",
    "    def __init__(self, filename, verbose=True):\n",
    "    \n",
    "        \"\"\"\n",
    "        \n",
    "        Args:\n",
    "            filename: the name of .iso file.\n",
    "        \n",
    "        Usage:\n",
    "            >> iso = read_mist_models.ISO('MIST_v1.0_feh_p0.00_afe_p0.0_vvcrit0.4.iso')\n",
    "            >> age_ind = iso.age_index(8.0)\n",
    "            >> logTeff = iso.isos[age_ind]['log_Teff']\n",
    "            >> logL = iso.isos[age_ind]['log_L']\n",
    "            >> plt.plot(logTeff, logL) #plot the HR diagram for logage = 8.0\n",
    "            \n",
    "        Attributes:\n",
    "            version     Dictionary containing the MIST and MESA version numbers.\n",
    "            abun        Dictionary containing Yinit, Zinit, [Fe/H], and [a/Fe] values.\n",
    "            rot         Rotation in units of surface v/v_crit.\n",
    "            ages        List of ages.\n",
    "            num_ages    Number of isochrones.\n",
    "            hdr_list    List of column headers.\n",
    "            isos        Data.\n",
    "            \n",
    "        \"\"\"\n",
    "        \n",
    "        self.filename = filename\n",
    "        if verbose:\n",
    "            print('Reading in: ' + self.filename)\n",
    "            \n",
    "        self.version, self.abun, self.rot, self.ages, self.num_ages, self.hdr_list, self.isos = self.read_iso_file()\n",
    "        \n",
    "    def read_iso_file(self):\n",
    "\n",
    "        \"\"\"\n",
    "        Reads in the isochrone file.\n",
    "        \n",
    "        Args:\n",
    "            filename: the name of .iso file.\n",
    "        \n",
    "        \"\"\"\n",
    "        \n",
    "        #open file and read it in\n",
    "        with open(self.filename) as f:\n",
    "            content = [line.split() for line in f]\n",
    "        version = {'MIST': content[0][-1], 'MESA': content[1][-1]}\n",
    "        abun = {content[3][i]:float(content[4][i]) for i in range(1,5)}\n",
    "        rot = float(content[4][-1])\n",
    "        num_ages = int(content[6][-1])\n",
    "        \n",
    "        #read one block for each isochrone\n",
    "        iso_set = []\n",
    "        ages = []\n",
    "        counter = 0\n",
    "        data = content[8:]\n",
    "        for i_age in range(num_ages):\n",
    "            #grab info for each isochrone\n",
    "            num_eeps = int(data[counter][-2])\n",
    "            num_cols = int(data[counter][-1])\n",
    "            hdr_list = data[counter+2][1:]\n",
    "            formats = tuple([np.int32]+[np.float64 for i in range(num_cols-1)])\n",
    "            iso = np.zeros((num_eeps),{'names':tuple(hdr_list),'formats':tuple(formats)})\n",
    "            #read through EEPs for each isochrone\n",
    "            for eep in range(num_eeps):\n",
    "                iso_chunk = data[3+counter+eep]\n",
    "                iso[eep]=tuple(iso_chunk)\n",
    "            iso_set.append(iso)\n",
    "            ages.append(iso[0][1])\n",
    "            counter+= 3+num_eeps+2\n",
    "        return version, abun, rot, ages, num_ages, hdr_list, iso_set  \n",
    "        \n",
    "    def age_index(self, age):\n",
    "    \n",
    "        \"\"\"\n",
    "        Returns the index for the user-specified age.\n",
    "    \n",
    "        Args:\n",
    "            age: the age of the isochrone.\n",
    "    \n",
    "        \"\"\"\n",
    "    \n",
    "        diff_arr = abs(np.array(self.ages) - age)\n",
    "        age_index = np.where(diff_arr == min(diff_arr))[0][0]\n",
    "    \n",
    "        if ((age > max(self.ages)) | (age < min(self.ages))):\n",
    "            print('The requested age is outside the range. Try between ' + str(min(self.ages)) + ' and ' + str(max(self.ages)))\n",
    "        \n",
    "        return age_index"
   ]
  },
  {
   "cell_type": "code",
   "execution_count": 9,
   "id": "4c27819d-5ce0-4279-a7eb-c2c11cca22b0",
   "metadata": {},
   "outputs": [],
   "source": [
    "fehs = np.arange(-2., 0.51, 0.25)\n",
    "\n",
    "mistisos = [[], [], []]\n",
    "for feh in fehs:\n",
    "    filename = 'MIST_iso/MIST_iso_feh{:04.0f}.iso'.format(feh*100)\n",
    "    f = MIST_ISO(work_dir+'modelling/'+filename,verbose=False)\n",
    "    \n",
    "    for i_iso, iso in enumerate(f.isos):\n",
    "        d = pd.DataFrame(iso)\n",
    "        d['Yinit']=f.abun['Yinit']\n",
    "        d['Zinit']=f.abun['Zinit']\n",
    "        d['[Fe/H]']=f.abun['[Fe/H]']\n",
    "        mistisos[i_iso].append(d)"
   ]
  },
  {
   "cell_type": "markdown",
   "id": "228cb19a-1b8e-4128-9ee4-3c384b524261",
   "metadata": {},
   "source": [
    "# Derive the theoretical [M/H]-mass edge"
   ]
  },
  {
   "cell_type": "code",
   "execution_count": 10,
   "id": "b147a26a-de66-4bd9-a4ce-5436941a97f2",
   "metadata": {},
   "outputs": [],
   "source": [
    "minis, masses, fehs = [[[], [], []] for i in range(3)]\n",
    "for i_age in range(3):\n",
    "    for i_iso, iso in enumerate(mistisos[i_age]):\n",
    "        idx = iso['phase']==3\n",
    "        minis[i_age].append(iso.loc[idx,:].sort_values('star_mass', ascending=True).iloc[0]['initial_mass'])\n",
    "        masses[i_age].append(iso.loc[idx,:].sort_values('star_mass', ascending=True).iloc[0]['star_mass'])\n",
    "        fehs[i_age].append(iso.loc[idx,:].sort_values('star_mass', ascending=True).iloc[0]['[Fe/H]'])\n",
    "        \n",
    "minis = [np.array(mini) for mini in minis]\n",
    "masses = [np.array(mass) for mass in masses]\n",
    "fehs = [np.array(feh) for feh in fehs]\n",
    "\n",
    "import scipy\n",
    "f_low_mini_limit = scipy.interpolate.interp1d(fehs[1], minis[1], kind='cubic', fill_value='extrapolate')\n",
    "f_low_mass_limit = scipy.interpolate.interp1d(fehs[1], masses[1], kind='cubic', fill_value='extrapolate')"
   ]
  },
  {
   "cell_type": "markdown",
   "id": "e74e1129-3a5f-4258-ab47-a3e7f66b2c21",
   "metadata": {},
   "source": [
    "# Plot Figure 2"
   ]
  },
  {
   "cell_type": "code",
   "execution_count": 11,
   "id": "6f75ff06-3451-4ad5-8dc3-90dbb0e8d945",
   "metadata": {},
   "outputs": [
    {
     "data": {
      "image/png": "[encoded data removed]",
      "text/plain": [
       "<Figure size 249.449x174.614 with 1 Axes>"
      ]
     },
     "metadata": {
      "needs_background": "light"
     },
     "output_type": "display_data"
    }
   ],
   "source": [
    "%matplotlib inline\n",
    "from matplotlib.ticker import ScalarFormatter\n",
    "\n",
    "\n",
    "gridspec_kw = {'left':0.17, 'right':0.96, 'top':0.96, 'bottom':0.15, 'wspace':0.2, 'hspace':0.2}\n",
    "fig, axes = plt.subplots(figsize=nature_size('one',ratio=0.7), nrows=1, ncols=1, squeeze=False, gridspec_kw=gridspec_kw)\n",
    "axes = axes.reshape(-1)\n",
    "\n",
    "\n",
    "# Select all HeB stars\n",
    "c=axes[0].scatter(stars.loc[oidx,'ClcorM'], stars.loc[oidx,'[M/H]'], marker='.', color='lightgray', s=5, rasterized=True)\n",
    "\n",
    "c=axes[0].errorbar(stars.loc[lidx,'mass'], stars.loc[lidx,'[M/H]'], \n",
    "                   xerr=stars.loc[lidx,'e_mass'], ecolor=blue, \n",
    "                   mec=blue, mfc='none', ms=5, marker='s', linestyle='none')\n",
    "\n",
    "c=axes[0].errorbar(stars.loc[uidx,'mass'], stars.loc[uidx,'[M/H]'], \n",
    "                   xerr=stars.loc[uidx,'e_mass'], ecolor=red, \n",
    "                   mec=red, mfc='none', ms=5, marker='^', linestyle='none')\n",
    "\n",
    "\n",
    "# 13.8Gyr limit\n",
    "ym = np.arange(-1.5, 0.5, 0.01)\n",
    "xm = f_low_mini_limit(ym)\n",
    "axes[0].plot(xm, ym, 'k-', label='Theoretical lower limit ($M$)')\n",
    "axes[0].plot(xm-0.2, ym, 'k--', label='Theoretical lower limit ($M$) - 0.2 M$_\\\\odot$')\n",
    "\n",
    "axes[0].set_xlim(0.4, 2.2)\n",
    "axes[0].set_ylim(-1.5, 0.5)\n",
    "axes[0].set_xlabel('Mass (M$_\\\\odot$)')\n",
    "axes[0].set_ylabel('[M/H] (dex)')\n",
    "axes[0].legend(fontsize=fontsize)\n",
    "\n",
    "plt.savefig(overleaf_path+'Fig_main_2_mass_feh_diagram.pdf')"
   ]
  }
 ],
 "metadata": {
  "kernelspec": {
   "display_name": "Python 3",
   "language": "python",
   "name": "python3"
  },
  "language_info": {
   "codemirror_mode": {
    "name": "ipython",
    "version": 3
   },
   "file_extension": ".py",
   "mimetype": "text/x-python",
   "name": "python",
   "nbconvert_exporter": "python",
   "pygments_lexer": "ipython3",
   "version": "3.7.9"
  }
 },
 "nbformat": 4,
 "nbformat_minor": 5
}
